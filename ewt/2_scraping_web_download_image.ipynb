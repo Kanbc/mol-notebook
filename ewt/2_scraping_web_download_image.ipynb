{
 "cells": [
  {
   "cell_type": "markdown",
   "metadata": {},
   "source": [
    "# Get URL from CSV"
   ]
  },
  {
   "cell_type": "code",
   "execution_count": 165,
   "metadata": {},
   "outputs": [],
   "source": [
    "import urllib\n",
    "import pandas as pd\n",
    "from bs4 import BeautifulSoup\n",
    "\n",
    "url = \"http://counterservice.mol.go.th/ewt_news.php?nid=1&filename=index\"\n",
    "f = urllib.request.urlopen(url)\n",
    "soup = BeautifulSoup(f.read(), 'html.parser')"
   ]
  },
  {
   "cell_type": "code",
   "execution_count": 166,
   "metadata": {},
   "outputs": [],
   "source": [
    "base_url = 'http://counterservice.mol.go.th/'\n",
    "img_url_arr = []\n",
    "img_name_arr = []\n",
    "headlines = soup.find_all(\"a\", {\"class\": \"lightbox\"})\n",
    "for headline in headlines:\n",
    "    img_url_arr.append(base_url+headline['href'])\n",
    "    img_name_arr.append(headline['href'].split('/')[3])"
   ]
  },
  {
   "cell_type": "code",
   "execution_count": 167,
   "metadata": {},
   "outputs": [
    {
     "data": {
      "text/html": [
       "<div>\n",
       "<style scoped>\n",
       "    .dataframe tbody tr th:only-of-type {\n",
       "        vertical-align: middle;\n",
       "    }\n",
       "\n",
       "    .dataframe tbody tr th {\n",
       "        vertical-align: top;\n",
       "    }\n",
       "\n",
       "    .dataframe thead th {\n",
       "        text-align: right;\n",
       "    }\n",
       "</style>\n",
       "<table border=\"1\" class=\"dataframe\">\n",
       "  <thead>\n",
       "    <tr style=\"text-align: right;\">\n",
       "      <th></th>\n",
       "      <th>url</th>\n",
       "      <th>name</th>\n",
       "    </tr>\n",
       "  </thead>\n",
       "  <tbody>\n",
       "    <tr>\n",
       "      <th>0</th>\n",
       "      <td>http://counterservice.mol.go.th/images/article...</td>\n",
       "      <td>n20150203152348_2.jpg</td>\n",
       "    </tr>\n",
       "    <tr>\n",
       "      <th>1</th>\n",
       "      <td>http://counterservice.mol.go.th/images/article...</td>\n",
       "      <td>n20150203152351_3.jpg</td>\n",
       "    </tr>\n",
       "    <tr>\n",
       "      <th>2</th>\n",
       "      <td>http://counterservice.mol.go.th/images/article...</td>\n",
       "      <td>n20150203152354_4.jpg</td>\n",
       "    </tr>\n",
       "    <tr>\n",
       "      <th>3</th>\n",
       "      <td>http://counterservice.mol.go.th/images/article...</td>\n",
       "      <td>n20150203152409_5.jpg</td>\n",
       "    </tr>\n",
       "    <tr>\n",
       "      <th>4</th>\n",
       "      <td>http://counterservice.mol.go.th/images/article...</td>\n",
       "      <td>n20150203152412_6.jpg</td>\n",
       "    </tr>\n",
       "    <tr>\n",
       "      <th>5</th>\n",
       "      <td>http://counterservice.mol.go.th/images/article...</td>\n",
       "      <td>n20150203152429_7.jpg</td>\n",
       "    </tr>\n",
       "    <tr>\n",
       "      <th>6</th>\n",
       "      <td>http://counterservice.mol.go.th/images/article...</td>\n",
       "      <td>n20150203152602_8.jpg</td>\n",
       "    </tr>\n",
       "    <tr>\n",
       "      <th>7</th>\n",
       "      <td>http://counterservice.mol.go.th/images/article...</td>\n",
       "      <td>n20150203152614_9.jpg</td>\n",
       "    </tr>\n",
       "    <tr>\n",
       "      <th>8</th>\n",
       "      <td>http://counterservice.mol.go.th/images/article...</td>\n",
       "      <td>n20150203152713_10.jpg</td>\n",
       "    </tr>\n",
       "  </tbody>\n",
       "</table>\n",
       "</div>"
      ],
      "text/plain": [
       "                                                 url                    name\n",
       "0  http://counterservice.mol.go.th/images/article...   n20150203152348_2.jpg\n",
       "1  http://counterservice.mol.go.th/images/article...   n20150203152351_3.jpg\n",
       "2  http://counterservice.mol.go.th/images/article...   n20150203152354_4.jpg\n",
       "3  http://counterservice.mol.go.th/images/article...   n20150203152409_5.jpg\n",
       "4  http://counterservice.mol.go.th/images/article...   n20150203152412_6.jpg\n",
       "5  http://counterservice.mol.go.th/images/article...   n20150203152429_7.jpg\n",
       "6  http://counterservice.mol.go.th/images/article...   n20150203152602_8.jpg\n",
       "7  http://counterservice.mol.go.th/images/article...   n20150203152614_9.jpg\n",
       "8  http://counterservice.mol.go.th/images/article...  n20150203152713_10.jpg"
      ]
     },
     "execution_count": 167,
     "metadata": {},
     "output_type": "execute_result"
    }
   ],
   "source": [
    "img_df = pd.DataFrame({\"url\":img_url_arr, \"name\": img_name_arr})\n",
    "img_df"
   ]
  },
  {
   "cell_type": "markdown",
   "metadata": {},
   "source": [
    "# Download Image from URL"
   ]
  },
  {
   "cell_type": "code",
   "execution_count": 168,
   "metadata": {},
   "outputs": [],
   "source": [
    "for pd_index,pd_row in img_df.iterrows():\n",
    "    urllib.request.urlretrieve(pd_row['url'], 'output/counterservice/' + pd_row['name'])"
   ]
  },
  {
   "cell_type": "code",
   "execution_count": null,
   "metadata": {},
   "outputs": [],
   "source": []
  }
 ],
 "metadata": {
  "kernelspec": {
   "display_name": "Python 3",
   "language": "python",
   "name": "python3"
  },
  "language_info": {
   "codemirror_mode": {
    "name": "ipython",
    "version": 3
   },
   "file_extension": ".py",
   "mimetype": "text/x-python",
   "name": "python",
   "nbconvert_exporter": "python",
   "pygments_lexer": "ipython3",
   "version": "3.6.6"
  }
 },
 "nbformat": 4,
 "nbformat_minor": 2
}
