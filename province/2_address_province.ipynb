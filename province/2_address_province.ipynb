{
 "cells": [
  {
   "cell_type": "markdown",
   "metadata": {},
   "source": [
    "## read url from csv"
   ]
  },
  {
   "cell_type": "code",
   "execution_count": 124,
   "metadata": {},
   "outputs": [],
   "source": [
    "import pandas as pd\n",
    "pd.set_option('display.max_rows', 500)\n",
    "pd.set_option('display.max_columns', 500)"
   ]
  },
  {
   "cell_type": "code",
   "execution_count": 36,
   "metadata": {},
   "outputs": [],
   "source": [
    "url = pd.read_csv('output/url.csv')"
   ]
  },
  {
   "cell_type": "markdown",
   "metadata": {},
   "source": [
    "## scraping address from footer "
   ]
  },
  {
   "cell_type": "code",
   "execution_count": 86,
   "metadata": {},
   "outputs": [],
   "source": [
    "import urllib\n",
    "import pandas as pd\n",
    "from bs4 import BeautifulSoup\n",
    "\n",
    "footer_address = []\n",
    "footer_tel = []\n",
    "\n",
    "for i in url['old_url']:\n",
    "    ui = 'http://' + i\n",
    "    f = urllib.request.urlopen(ui)\n",
    "    footer_p = BeautifulSoup(f.read(), 'html.parser').find(\"footer\").find_all('p')\n",
    "\n",
    "    address_str = ''\n",
    "    tel_str = ''\n",
    "    for p in footer_p:\n",
    "        if p.text[0:3] == 'โทร':\n",
    "            tel_str+=p.text \n",
    "            break\n",
    "        else:\n",
    "            address_str+=p.text+' '\n",
    "\n",
    "    footer_address.append(address_str)\n",
    "    footer_tel.append(tel_str)"
   ]
  },
  {
   "cell_type": "markdown",
   "metadata": {},
   "source": [
    "# Cleaning Data"
   ]
  },
  {
   "cell_type": "code",
   "execution_count": 89,
   "metadata": {},
   "outputs": [],
   "source": [
    "new_df = url.copy()\n",
    "new_df['footer_address'] = footer_address\n",
    "new_df['footer_tel'] = footer_tel"
   ]
  },
  {
   "cell_type": "code",
   "execution_count": 150,
   "metadata": {},
   "outputs": [],
   "source": [
    "def address(text):\n",
    "    output = text.split('- ',1)[1].strip()\n",
    "    return output\n",
    "\n",
    "def tel(text):\n",
    "    text = text.lower()\n",
    "    output = text.split(' ')\n",
    "    if len(output) > 1:\n",
    "        output = output[1].strip()\n",
    "    return output\n",
    "\n",
    "def email(text):\n",
    "    text = text.lower()\n",
    "    output = text.split('e-mail',1)\n",
    "    if len(output) > 1:\n",
    "        output = output[1].strip()\n",
    "        output = output.split(':')\n",
    "        if len(output) > 1:\n",
    "            return output[1].strip()\n",
    "        else:\n",
    "            return output[0].strip()\n",
    "    else:\n",
    "        return '-'"
   ]
  },
  {
   "cell_type": "code",
   "execution_count": 160,
   "metadata": {},
   "outputs": [],
   "source": [
    "new_df['address'] = list(new_df['footer_address'].apply(address))\n",
    "new_df['email'] = list(new_df['footer_tel'].apply(email))\n",
    "new_df['tel'] = list(new_df['footer_tel'].apply(tel))"
   ]
  },
  {
   "cell_type": "code",
   "execution_count": 162,
   "metadata": {},
   "outputs": [],
   "source": [
    "new_df.to_csv('output/address.csv', index=False)"
   ]
  },
  {
   "cell_type": "code",
   "execution_count": 163,
   "metadata": {},
   "outputs": [],
   "source": [
    "new_df2 = new_df.copy()"
   ]
  },
  {
   "cell_type": "code",
   "execution_count": 165,
   "metadata": {},
   "outputs": [],
   "source": [
    "del new_df2['footer_address']\n",
    "del new_df2['footer_tel']"
   ]
  },
  {
   "cell_type": "code",
   "execution_count": 183,
   "metadata": {},
   "outputs": [],
   "source": [
    "new_df2.to_csv('output/address_v2.csv', index=False)"
   ]
  },
  {
   "cell_type": "code",
   "execution_count": 196,
   "metadata": {},
   "outputs": [],
   "source": [
    "new_df3 = pd.read_csv('output/address.csv')\n",
    "new_df3['index'] = new_df3.index.values\n",
    "new_df3.to_csv('output/address_v3.csv', index=False)"
   ]
  },
  {
   "cell_type": "code",
   "execution_count": 204,
   "metadata": {},
   "outputs": [],
   "source": [
    "new_df3['active_url'] = 'https://' + new_df3['new_url'] + '/wp-admin/admin.php?page=acf-options'"
   ]
  },
  {
   "cell_type": "code",
   "execution_count": 205,
   "metadata": {},
   "outputs": [],
   "source": [
    "# new_df3.to_csv('output/address_v3.csv', index=False)"
   ]
  },
  {
   "cell_type": "code",
   "execution_count": 217,
   "metadata": {},
   "outputs": [],
   "source": [
    "new_df3 = pd.read_csv('output/address_v3.csv')\n",
    "# new_df3[['email','tel','old_url'] ]"
   ]
  },
  {
   "cell_type": "code",
   "execution_count": null,
   "metadata": {},
   "outputs": [],
   "source": []
  }
 ],
 "metadata": {
  "kernelspec": {
   "display_name": "Python 3",
   "language": "python",
   "name": "python3"
  },
  "language_info": {
   "codemirror_mode": {
    "name": "ipython",
    "version": 3
   },
   "file_extension": ".py",
   "mimetype": "text/x-python",
   "name": "python",
   "nbconvert_exporter": "python",
   "pygments_lexer": "ipython3",
   "version": "3.6.6"
  }
 },
 "nbformat": 4,
 "nbformat_minor": 2
}
